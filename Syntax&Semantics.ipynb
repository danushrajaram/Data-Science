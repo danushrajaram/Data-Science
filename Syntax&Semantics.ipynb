{
  "nbformat": 4,
  "nbformat_minor": 0,
  "metadata": {
    "colab": {
      "private_outputs": true,
      "provenance": []
    },
    "kernelspec": {
      "name": "python3",
      "display_name": "Python 3"
    },
    "language_info": {
      "name": "python"
    }
  },
  "cells": [
    {
      "cell_type": "code",
      "execution_count": null,
      "metadata": {
        "id": "b9cW-bzm2BFf"
      },
      "outputs": [],
      "source": [
        "## Basic Syntax rules in python\n",
        "## Case sensitivity - python is case sensitive"
      ]
    },
    {
      "cell_type": "code",
      "source": [],
      "metadata": {
        "id": "oYh2TWtA2bmC"
      },
      "execution_count": null,
      "outputs": []
    },
    {
      "cell_type": "code",
      "source": [
        "name=\"Danush\"\n",
        "Name=\"Rajaram\"\n",
        "print(name)\n",
        "print(Name)"
      ],
      "metadata": {
        "id": "g6vUfux52VM2"
      },
      "execution_count": null,
      "outputs": []
    },
    {
      "cell_type": "code",
      "source": [
        "## Indentation\n",
        "## Python uses indentation to define blocks of code. consistent use of spaces (commonly 4) or tab is required.\n"
      ],
      "metadata": {
        "id": "MJiy6u5J2aJG"
      },
      "execution_count": null,
      "outputs": []
    },
    {
      "cell_type": "code",
      "source": [
        "age=32\n",
        "if age>30:\n",
        "  print(age)\n",
        "print(age)"
      ],
      "metadata": {
        "id": "Jn0ObvQK2_FS"
      },
      "execution_count": null,
      "outputs": []
    },
    {
      "cell_type": "code",
      "source": [
        "## This is a single line comment\n",
        "print(\"Hello World\")"
      ],
      "metadata": {
        "id": "A-ZqcMAe3MS9"
      },
      "execution_count": null,
      "outputs": []
    },
    {
      "cell_type": "code",
      "source": [
        "## Line continuation\n",
        "##Use a backlash (\\) to continue a statement to the next line\n",
        "\n",
        "total = 1+2+3+4+5+6+7+8+\\\n",
        "4+5+6\n",
        "\n",
        "print(total)"
      ],
      "metadata": {
        "id": "k7AmCRth3O6L"
      },
      "execution_count": null,
      "outputs": []
    },
    {
      "cell_type": "code",
      "source": [
        "## Multiple statements on a single line\n",
        "x=5;y=10;z=x+y\n",
        "print(z)"
      ],
      "metadata": {
        "id": "EGFwNuut3i-Y"
      },
      "execution_count": null,
      "outputs": []
    },
    {
      "cell_type": "code",
      "source": [
        "## Understand Semantics in python\n",
        "# variable assignment\n",
        "\n",
        "age=32 ##age is an integer\n",
        "name=\"Krish\" ##name is a string\n",
        "print(age,name)"
      ],
      "metadata": {
        "id": "kaYHPXMp4NTq"
      },
      "execution_count": null,
      "outputs": []
    },
    {
      "cell_type": "code",
      "source": [
        "type(age)\n",
        "type(name)"
      ],
      "metadata": {
        "id": "jEdH8ceF4vx1"
      },
      "execution_count": null,
      "outputs": []
    },
    {
      "cell_type": "code",
      "source": [
        "# Type Inference\n",
        "variable = 10\n",
        "print(type(variable))\n",
        "variable=\"Danush\"\n",
        "print(type(variable))"
      ],
      "metadata": {
        "id": "MFwciYJ141dL"
      },
      "execution_count": null,
      "outputs": []
    },
    {
      "cell_type": "code",
      "source": [
        "## Code examples of indentation\n",
        "if True:\n",
        "  print(\"Correct Indentation\")\n",
        "  if False:\n",
        "    print(\"This is Printed\")\n",
        "  print(\"This will print\")\n",
        "print(\"outside the if block\")"
      ],
      "metadata": {
        "id": "ebSL9ljk5RyJ"
      },
      "execution_count": null,
      "outputs": []
    },
    {
      "cell_type": "code",
      "source": [],
      "metadata": {
        "id": "iTnEuQhF596M"
      },
      "execution_count": null,
      "outputs": []
    }
  ]
}