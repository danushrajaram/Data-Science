{
  "nbformat": 4,
  "nbformat_minor": 0,
  "metadata": {
    "colab": {
      "private_outputs": true,
      "provenance": []
    },
    "kernelspec": {
      "name": "python3",
      "display_name": "Python 3"
    },
    "language_info": {
      "name": "python"
    }
  },
  "cells": [
    {
      "cell_type": "code",
      "execution_count": null,
      "metadata": {
        "id": "8xsuOaO86tMW"
      },
      "outputs": [],
      "source": [
        "'''Variables\n",
        "\n",
        "- Introduction to variables\n",
        "- Declaring & Assignment variables\n",
        "- Naming conventions\n",
        "- Understanding variables types\n",
        "- Type checking & conversion\n",
        "- Dynamic Typing\n",
        "- practical Examples & common errors\n",
        "\n",
        "'''"
      ]
    },
    {
      "cell_type": "code",
      "source": [
        "a=100"
      ],
      "metadata": {
        "id": "v_MjjOOQ7QpR"
      },
      "execution_count": null,
      "outputs": []
    },
    {
      "cell_type": "code",
      "source": [
        "## Declaring & Assigning variables\n",
        "\n",
        "age =32\n",
        "height=6.1\n",
        "name=\"Danush\"\n",
        "is_student=True"
      ],
      "metadata": {
        "id": "J4JPXAkX7QXq"
      },
      "execution_count": null,
      "outputs": []
    },
    {
      "cell_type": "code",
      "source": [
        "## printing the variables\n",
        "print(\"Age :\" ,age)\n",
        "print(\"Height:\" ,height)\n",
        "print(\"Name: \", name)\n",
        "print(\"is_student: \", is_student)"
      ],
      "metadata": {
        "id": "aUFVasnJ7iky"
      },
      "execution_count": null,
      "outputs": []
    },
    {
      "cell_type": "code",
      "source": [
        "## Naming conventions\n",
        "## Variable name should be descriptive\n",
        "## They must start with letter or an '_' and contains letter, numbers and underscores\n",
        "## variables names case sensitive\n",
        "\n",
        "#valid variable names\n",
        "\n",
        "first_name=\"Danush\"\n",
        "last_name=\"Rajaram\"\n",
        "print(first_name,last_name)"
      ],
      "metadata": {
        "id": "5BXCQdjk7_Om"
      },
      "execution_count": null,
      "outputs": []
    },
    {
      "cell_type": "code",
      "source": [
        "# Invalid variable names\n",
        "# 2 Age = 30\n",
        "# First-name=\"Danush\"\n",
        "##@name=\"Danush\""
      ],
      "metadata": {
        "id": "ZpWt7j9y8zX4"
      },
      "execution_count": null,
      "outputs": []
    },
    {
      "cell_type": "code",
      "source": [
        "## case sensitivity\n",
        "\n",
        "name=\"Danush\"\n",
        "Name=\"Rajaram\"\n",
        "name==Name"
      ],
      "metadata": {
        "id": "ymEduAaC8_-0"
      },
      "execution_count": null,
      "outputs": []
    },
    {
      "cell_type": "code",
      "source": [
        "## case sensitivity\n",
        "\n",
        "name=\"Danush\"\n",
        "Name=\"Danush\"\n",
        "name==Name"
      ],
      "metadata": {
        "id": "inlRR8cU9YyO"
      },
      "execution_count": null,
      "outputs": []
    },
    {
      "cell_type": "code",
      "source": [
        "## understanding variable types\n",
        "## python is dynamically typed of a variable is determidn at runtime\n",
        "age=25\n",
        "height=6.1 #float\n",
        "name=\"Danush\" #str\n",
        "is_student=True #bool\n",
        "\n",
        "\n",
        "print(type(age))"
      ],
      "metadata": {
        "id": "i67wg0UU9rEi"
      },
      "execution_count": null,
      "outputs": []
    },
    {
      "cell_type": "code",
      "source": [
        "## Type Checking and conversion\n",
        "type(height)"
      ],
      "metadata": {
        "id": "EJfU612u-AsZ"
      },
      "execution_count": null,
      "outputs": []
    },
    {
      "cell_type": "code",
      "source": [
        "age=25\n",
        "print(type(age))"
      ],
      "metadata": {
        "id": "fFhLZhZt-vfl"
      },
      "execution_count": null,
      "outputs": []
    },
    {
      "cell_type": "code",
      "source": [
        "#type conversion\n",
        "age_str=str(age)\n",
        "print(age_str)\n",
        "print(type(age_str))"
      ],
      "metadata": {
        "id": "2s3YJ4Co-0sJ"
      },
      "execution_count": null,
      "outputs": []
    },
    {
      "cell_type": "code",
      "source": [
        "age='25'\n",
        "print(type(int(age)))"
      ],
      "metadata": {
        "id": "p1nnWa5P_CYK"
      },
      "execution_count": null,
      "outputs": []
    },
    {
      "cell_type": "code",
      "source": [
        "name=\"Danush\"\n",
        "int(name)"
      ],
      "metadata": {
        "id": "Sjbe7UJ9_U8l"
      },
      "execution_count": null,
      "outputs": []
    },
    {
      "cell_type": "code",
      "source": [
        "height=5.11\n",
        "type(height)"
      ],
      "metadata": {
        "id": "nbwNtzQR_fgp"
      },
      "execution_count": null,
      "outputs": []
    },
    {
      "cell_type": "code",
      "source": [
        "int(height)"
      ],
      "metadata": {
        "id": "zVh_Unm9__qO"
      },
      "execution_count": null,
      "outputs": []
    },
    {
      "cell_type": "code",
      "source": [
        "float(int(height))"
      ],
      "metadata": {
        "id": "Bkw0WCXnADJR"
      },
      "execution_count": null,
      "outputs": []
    },
    {
      "cell_type": "code",
      "source": [
        "## Dynamic Typing\n",
        "## Python allows the type of a variable to change as program executes\n",
        "var=10\n",
        "print(var,type(var))\n",
        "\n",
        "var=\"Hello\"\n",
        "print(var,type(var))\n",
        "\n",
        "var=3.14\n",
        "print(var,type(var))"
      ],
      "metadata": {
        "id": "t_laRN8VAFLX"
      },
      "execution_count": null,
      "outputs": []
    },
    {
      "cell_type": "code",
      "source": [
        "##  input\n",
        "\n",
        "age=(input(\"what is the age \"))\n",
        "print(age,type(age))"
      ],
      "metadata": {
        "id": "O7st5N-GAmp9"
      },
      "execution_count": null,
      "outputs": []
    },
    {
      "cell_type": "code",
      "source": [
        "##  input\n",
        "\n",
        "age=int(input(\"what is the age \"))\n",
        "print(age,type(age))"
      ],
      "metadata": {
        "id": "LcnL6iPpA9l8"
      },
      "execution_count": null,
      "outputs": []
    },
    {
      "cell_type": "code",
      "source": [
        "# Simple calculator\n",
        "num1 = float(input(\"Enter first number: \"))  # First number\n",
        "num2 = float(input(\"Enter second number: \"))  # Second number (Fixed)\n",
        "\n",
        "sum_result = num1 + num2\n",
        "difference = num1 - num2\n",
        "multiply = num1 * num2\n",
        "quotient = num1 / num2 if num2 != 0 else \"Undefined (division by zero)\"  # Handling division by zero\n",
        "\n",
        "# Display results\n",
        "print(\"Sum:\", sum_result, \"Difference:\", difference, \"Multiply:\", multiply, \"Quotient:\", quotient)\n"
      ],
      "metadata": {
        "id": "iaAOeU3OBPv3"
      },
      "execution_count": null,
      "outputs": []
    },
    {
      "cell_type": "code",
      "source": [],
      "metadata": {
        "id": "hIBTL72RHRWs"
      },
      "execution_count": null,
      "outputs": []
    }
  ]
}