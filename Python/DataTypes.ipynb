{
  "nbformat": 4,
  "nbformat_minor": 0,
  "metadata": {
    "colab": {
      "private_outputs": true,
      "provenance": []
    },
    "kernelspec": {
      "name": "python3",
      "display_name": "Python 3"
    },
    "language_info": {
      "name": "python"
    }
  },
  "cells": [
    {
      "cell_type": "code",
      "execution_count": null,
      "metadata": {
        "id": "12TUV5f8H1hV"
      },
      "outputs": [],
      "source": [
        "'''\n",
        "\n",
        "Data types\n",
        "\n",
        "- Introduction\n",
        "- Importance of Data types in programming\n",
        "\n",
        "Basic data types\n",
        "- Integers\n",
        "- Floating - point numbers\n",
        "- strings\n",
        "- booleans\n",
        "\n",
        "Advanced Data types\n",
        "- Lists\n",
        "- Tuples\n",
        "- sets\n",
        "- dictionaries\n",
        "\n",
        "type conversion\n",
        "\n",
        "practical examples"
      ]
    },
    {
      "cell_type": "code",
      "source": [
        "## Integer example\n",
        "age=35\n",
        "type(age)"
      ],
      "metadata": {
        "id": "EdzSYvIHJM65"
      },
      "execution_count": null,
      "outputs": []
    },
    {
      "cell_type": "code",
      "source": [
        "## floating point datatype\n",
        "height=5.11\n",
        "print(height)\n",
        "print(type(height))\n"
      ],
      "metadata": {
        "id": "UKERsKQBJWW3"
      },
      "execution_count": null,
      "outputs": []
    },
    {
      "cell_type": "code",
      "source": [
        "#string data type example\n",
        "name=\"Danush\"\n",
        "print(name)\n",
        "print(type(name))"
      ],
      "metadata": {
        "id": "SKNCtEoIt6r-"
      },
      "execution_count": null,
      "outputs": []
    },
    {
      "cell_type": "code",
      "source": [
        "#boolen example\n",
        "type(True)\n",
        "is_true=True\n",
        "type(is_true)"
      ],
      "metadata": {
        "id": "Naxa99V5ucsx"
      },
      "execution_count": null,
      "outputs": []
    },
    {
      "cell_type": "code",
      "source": [
        "a=100\n",
        "b=10\n",
        "type(a==b)"
      ],
      "metadata": {
        "id": "P7YUpvFZuszp"
      },
      "execution_count": null,
      "outputs": []
    },
    {
      "cell_type": "code",
      "source": [
        "result=\"Hello\"+5\n"
      ],
      "metadata": {
        "id": "-MrZcLmMvILw"
      },
      "execution_count": null,
      "outputs": []
    },
    {
      "cell_type": "code",
      "source": [
        "result=\"Hello\"+\"5\"\n",
        "print(result)"
      ],
      "metadata": {
        "id": "neVgQ2pcvKL_"
      },
      "execution_count": null,
      "outputs": []
    },
    {
      "cell_type": "code",
      "source": [
        "result=\"Hello AI\"+str(4)\n",
        "result"
      ],
      "metadata": {
        "id": "U9Yv8UqfvTjN"
      },
      "execution_count": null,
      "outputs": []
    },
    {
      "cell_type": "code",
      "source": [],
      "metadata": {
        "id": "UY3Pm0ifvwGF"
      },
      "execution_count": null,
      "outputs": []
    }
  ]
}