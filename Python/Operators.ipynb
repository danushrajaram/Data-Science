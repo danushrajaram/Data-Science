{
  "nbformat": 4,
  "nbformat_minor": 0,
  "metadata": {
    "colab": {
      "private_outputs": true,
      "provenance": []
    },
    "kernelspec": {
      "name": "python3",
      "display_name": "Python 3"
    },
    "language_info": {
      "name": "python"
    }
  },
  "cells": [
    {
      "cell_type": "code",
      "source": [
        "'''\n",
        "1. Introduction to Python\n",
        "2. Arithmetic Operators\n",
        "   additon, subtraction, multiplication\n",
        "   Division, Floor Division\n",
        "   Modulus exponential\n",
        "3. Comparison Operators\n",
        "   =\n",
        "   <\n",
        "   >\n",
        "   <=\n",
        "   >=\n",
        "   !=\n",
        "   ==\n",
        "4 logical operators - and or not\n",
        "5. practical examples\n"
      ],
      "metadata": {
        "id": "jnwWZ0RK500-"
      },
      "execution_count": null,
      "outputs": []
    },
    {
      "cell_type": "code",
      "source": [
        "## Arithmetic Operations\n",
        "\n",
        "a=10\n",
        "b=14\n",
        "c=a+b\n",
        "print(c)"
      ],
      "metadata": {
        "id": "ldl9dzsf51ew"
      },
      "execution_count": null,
      "outputs": []
    },
    {
      "cell_type": "code",
      "source": [
        "a=5\n",
        "b=2\n",
        "\n",
        "add = a+b\n",
        "sub = a-b\n",
        "mul = a*b\n",
        "div = a/b\n",
        "floor_div_result=a//b\n",
        "mod=a%b\n",
        "exp =a**b\n",
        "print(add,sub,mul,div,floor_div_result,mod,exp)"
      ],
      "metadata": {
        "id": "CU0WPjsP6Ax9"
      },
      "execution_count": null,
      "outputs": []
    },
    {
      "cell_type": "code",
      "source": [
        "#comparison operators\n",
        "\n",
        "a=10\n",
        "b=10\n",
        "print(a==b)\n",
        "print(a>b)"
      ],
      "metadata": {
        "id": "3WbvRSjH9ohW"
      },
      "execution_count": null,
      "outputs": []
    },
    {
      "cell_type": "code",
      "source": [
        "str2=\"Danush\"\n",
        "str1=\"Danush\"\n",
        "str1==str2"
      ],
      "metadata": {
        "id": "5McE6U4Z-q74"
      },
      "execution_count": null,
      "outputs": []
    },
    {
      "cell_type": "code",
      "source": [
        "str2=\"Danush\"\n",
        "str1=\"danush\"\n",
        "str1==str2"
      ],
      "metadata": {
        "id": "qCHk0Sbt-1rf"
      },
      "execution_count": null,
      "outputs": []
    },
    {
      "cell_type": "code",
      "source": [
        " aa=\"danush\"\n",
        " bb=\"danush\"\n",
        " aa==bb"
      ],
      "metadata": {
        "id": "oJNCDvhc-44-"
      },
      "execution_count": null,
      "outputs": []
    },
    {
      "cell_type": "code",
      "source": [
        "#  >\n",
        "n1=45\n",
        "n2=33\n",
        "n1>n2"
      ],
      "metadata": {
        "id": "4__YcfOMAgHX"
      },
      "execution_count": null,
      "outputs": []
    },
    {
      "cell_type": "code",
      "source": [
        "#  <\n",
        "print(n1<n2)"
      ],
      "metadata": {
        "id": "gxEAJyn7AlYp"
      },
      "execution_count": null,
      "outputs": []
    },
    {
      "cell_type": "code",
      "source": [
        "#  greater than or equal to\n",
        "number1 =45\n",
        "number2=45\n",
        "print(number1>=number2)"
      ],
      "metadata": {
        "id": "dpnjT5sZAp3-"
      },
      "execution_count": null,
      "outputs": []
    },
    {
      "cell_type": "code",
      "source": [
        "### Logical operator\n",
        "\n",
        "# AND NOT OR\n",
        "\n",
        "X=True\n",
        "Y=False\n",
        "result_add=X and Y\n",
        "result_or=X or Y\n",
        "print(result_add)\n",
        "print(result_or)"
      ],
      "metadata": {
        "id": "JJUmlePyA5YG"
      },
      "execution_count": null,
      "outputs": []
    },
    {
      "cell_type": "code",
      "source": [
        "#NOT\n",
        "x=False\n",
        "c=not x\n",
        "c"
      ],
      "metadata": {
        "id": "NAbfj78lBmNL"
      },
      "execution_count": null,
      "outputs": []
    },
    {
      "cell_type": "code",
      "source": [],
      "metadata": {
        "id": "084nyvrgBtl-"
      },
      "execution_count": null,
      "outputs": []
    }
  ]
}